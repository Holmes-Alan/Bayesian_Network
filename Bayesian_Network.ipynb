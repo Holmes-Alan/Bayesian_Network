{
  "nbformat": 4,
  "nbformat_minor": 0,
  "metadata": {
    "colab": {
      "provenance": [],
      "authorship_tag": "ABX9TyMD6irWyOsY7s+99aB0IiMz",
      "include_colab_link": true
    },
    "kernelspec": {
      "name": "python3",
      "display_name": "Python 3"
    },
    "language_info": {
      "name": "python"
    }
  },
  "cells": [
    {
      "cell_type": "markdown",
      "metadata": {
        "id": "view-in-github",
        "colab_type": "text"
      },
      "source": [
        "<a href=\"https://colab.research.google.com/github/Holmes-Alan/Bayesian_Network/blob/main/Bayesian_Network.ipynb\" target=\"_parent\"><img src=\"https://colab.research.google.com/assets/colab-badge.svg\" alt=\"Open In Colab\"/></a>"
      ]
    },
    {
      "cell_type": "code",
      "execution_count": 1,
      "metadata": {
        "colab": {
          "base_uri": "https://localhost:8080/"
        },
        "id": "CXOacVphOK0R",
        "outputId": "acd822e6-9d4f-4061-946a-a7337885a14a"
      },
      "outputs": [
        {
          "output_type": "stream",
          "name": "stdout",
          "text": [
            "Requirement already satisfied: cython in /usr/local/lib/python3.10/dist-packages (3.0.10)\n",
            "Collecting vose\n",
            "  Downloading vose-0.0.1.tar.gz (129 kB)\n",
            "\u001b[2K     \u001b[90m━━━━━━━━━━━━━━━━━━━━━━━━━━━━━━━━━━━━━━━━\u001b[0m \u001b[32m129.8/129.8 kB\u001b[0m \u001b[31m3.2 MB/s\u001b[0m eta \u001b[36m0:00:00\u001b[0m\n",
            "\u001b[?25h  Preparing metadata (pyproject.toml) ... \u001b[?25l\u001b[?25hdone\n",
            "Requirement already satisfied: numpy in /usr/local/lib/python3.10/dist-packages (from vose) (1.25.2)\n",
            "Building wheels for collected packages: vose\n",
            "  Building wheel for vose (pyproject.toml) ... \u001b[?25l\u001b[?25hdone\n",
            "  Created wheel for vose: filename=vose-0.0.1-cp310-cp310-linux_x86_64.whl size=455661 sha256=36a9629dd1827efb38a32e604b9d6cd8a1c7b0de054dc950b950eccbf96a5ed6\n",
            "  Stored in directory: /root/.cache/pip/wheels/7f/41/31/40f933f182decfa9300f85183d4043c5ed39fc941136e05ebc\n",
            "Successfully built vose\n",
            "Installing collected packages: vose\n",
            "Successfully installed vose-0.0.1\n",
            "Collecting sorobn\n",
            "  Downloading sorobn-0.3.0-py3-none-any.whl (17 kB)\n",
            "Requirement already satisfied: numpy<2.0.0,>=1.24.2 in /usr/local/lib/python3.10/dist-packages (from sorobn) (1.25.2)\n",
            "Collecting pandas<2.0.0,>=1.5.3 (from sorobn)\n",
            "  Downloading pandas-1.5.3-cp310-cp310-manylinux_2_17_x86_64.manylinux2014_x86_64.whl (12.1 MB)\n",
            "\u001b[2K     \u001b[90m━━━━━━━━━━━━━━━━━━━━━━━━━━━━━━━━━━━━━━━━\u001b[0m \u001b[32m12.1/12.1 MB\u001b[0m \u001b[31m17.1 MB/s\u001b[0m eta \u001b[36m0:00:00\u001b[0m\n",
            "\u001b[?25hRequirement already satisfied: vose<0.0.2,>=0.0.1 in /usr/local/lib/python3.10/dist-packages (from sorobn) (0.0.1)\n",
            "Requirement already satisfied: python-dateutil>=2.8.1 in /usr/local/lib/python3.10/dist-packages (from pandas<2.0.0,>=1.5.3->sorobn) (2.8.2)\n",
            "Requirement already satisfied: pytz>=2020.1 in /usr/local/lib/python3.10/dist-packages (from pandas<2.0.0,>=1.5.3->sorobn) (2023.4)\n",
            "Requirement already satisfied: six>=1.5 in /usr/local/lib/python3.10/dist-packages (from python-dateutil>=2.8.1->pandas<2.0.0,>=1.5.3->sorobn) (1.16.0)\n",
            "Installing collected packages: pandas, sorobn\n",
            "  Attempting uninstall: pandas\n",
            "    Found existing installation: pandas 2.0.3\n",
            "    Uninstalling pandas-2.0.3:\n",
            "      Successfully uninstalled pandas-2.0.3\n",
            "\u001b[31mERROR: pip's dependency resolver does not currently take into account all the packages that are installed. This behaviour is the source of the following dependency conflicts.\n",
            "cudf-cu12 24.4.1 requires pandas<2.2.2dev0,>=2.0, but you have pandas 1.5.3 which is incompatible.\n",
            "google-colab 1.0.0 requires pandas==2.0.3, but you have pandas 1.5.3 which is incompatible.\u001b[0m\u001b[31m\n",
            "\u001b[0mSuccessfully installed pandas-1.5.3 sorobn-0.3.0\n",
            "Requirement already satisfied: graphviz in /usr/local/lib/python3.10/dist-packages (0.20.3)\n"
          ]
        }
      ],
      "source": [
        "!pip install cython\n",
        "!pip install vose --no-build-isolation\n",
        "!pip install sorobn\n",
        "!pip install graphviz"
      ]
    },
    {
      "cell_type": "markdown",
      "source": [
        "# Learn to plot Bayesian Network"
      ],
      "metadata": {
        "id": "WTt4jy2lV6Cp"
      }
    },
    {
      "cell_type": "code",
      "source": [
        "import graphviz\n",
        "\n",
        "dot = graphviz.Digraph(comment='alarm')\n",
        "dot.node('A', 'Burglary')\n",
        "dot.node('B', 'Earthquake')\n",
        "dot.node('C', 'Alarm')\n",
        "dot.node('D', 'John calls')\n",
        "dot.node('E', 'Mary calls')\n",
        "\n",
        "dot.edges(['AC', 'BC', 'CD', 'CE'])"
      ],
      "metadata": {
        "id": "Y3CkOET-OhIx"
      },
      "execution_count": 2,
      "outputs": []
    },
    {
      "cell_type": "code",
      "source": [
        "print(dot.source)"
      ],
      "metadata": {
        "colab": {
          "base_uri": "https://localhost:8080/"
        },
        "id": "M6Er0F5HOyUp",
        "outputId": "c0245428-1af0-4b40-9e12-2dd4f83a1e67"
      },
      "execution_count": 3,
      "outputs": [
        {
          "output_type": "stream",
          "name": "stdout",
          "text": [
            "// alarm\n",
            "digraph {\n",
            "\tA [label=Burglary]\n",
            "\tB [label=Earthquake]\n",
            "\tC [label=Alarm]\n",
            "\tD [label=\"John calls\"]\n",
            "\tE [label=\"Mary calls\"]\n",
            "\tA -> C\n",
            "\tB -> C\n",
            "\tC -> D\n",
            "\tC -> E\n",
            "}\n",
            "\n"
          ]
        }
      ]
    },
    {
      "cell_type": "code",
      "source": [
        "dot.render('round_table', directory='figures', format='svg', cleanup=True, view=True)\n",
        "dot"
      ],
      "metadata": {
        "colab": {
          "base_uri": "https://localhost:8080/",
          "height": 271
        },
        "id": "khVcYdyoOzZ4",
        "outputId": "7b4fa285-d9fe-4419-d512-abfbf6502cfa"
      },
      "execution_count": 4,
      "outputs": [
        {
          "output_type": "execute_result",
          "data": {
            "image/svg+xml": "<?xml version=\"1.0\" encoding=\"UTF-8\" standalone=\"no\"?>\n<!DOCTYPE svg PUBLIC \"-//W3C//DTD SVG 1.1//EN\"\n \"http://www.w3.org/Graphics/SVG/1.1/DTD/svg11.dtd\">\n<!-- Generated by graphviz version 2.43.0 (0)\n -->\n<!-- Title: %3 Pages: 1 -->\n<svg width=\"217pt\" height=\"188pt\"\n viewBox=\"0.00 0.00 216.84 188.00\" xmlns=\"http://www.w3.org/2000/svg\" xmlns:xlink=\"http://www.w3.org/1999/xlink\">\n<g id=\"graph0\" class=\"graph\" transform=\"scale(1 1) rotate(0) translate(4 184)\">\n<title>%3</title>\n<polygon fill=\"white\" stroke=\"transparent\" points=\"-4,4 -4,-184 212.84,-184 212.84,4 -4,4\"/>\n<!-- A -->\n<g id=\"node1\" class=\"node\">\n<title>A</title>\n<ellipse fill=\"none\" stroke=\"black\" cx=\"47.15\" cy=\"-162\" rx=\"42.49\" ry=\"18\"/>\n<text text-anchor=\"middle\" x=\"47.15\" y=\"-158.3\" font-family=\"Times,serif\" font-size=\"14.00\">Burglary</text>\n</g>\n<!-- C -->\n<g id=\"node3\" class=\"node\">\n<title>C</title>\n<ellipse fill=\"none\" stroke=\"black\" cx=\"102.15\" cy=\"-90\" rx=\"33.6\" ry=\"18\"/>\n<text text-anchor=\"middle\" x=\"102.15\" y=\"-86.3\" font-family=\"Times,serif\" font-size=\"14.00\">Alarm</text>\n</g>\n<!-- A&#45;&gt;C -->\n<g id=\"edge1\" class=\"edge\">\n<title>A&#45;&gt;C</title>\n<path fill=\"none\" stroke=\"black\" d=\"M59.9,-144.76C66.84,-135.93 75.57,-124.83 83.28,-115.01\"/>\n<polygon fill=\"black\" stroke=\"black\" points=\"86.03,-117.17 89.46,-107.15 80.53,-112.85 86.03,-117.17\"/>\n</g>\n<!-- B -->\n<g id=\"node2\" class=\"node\">\n<title>B</title>\n<ellipse fill=\"none\" stroke=\"black\" cx=\"158.15\" cy=\"-162\" rx=\"50.89\" ry=\"18\"/>\n<text text-anchor=\"middle\" x=\"158.15\" y=\"-158.3\" font-family=\"Times,serif\" font-size=\"14.00\">Earthquake</text>\n</g>\n<!-- B&#45;&gt;C -->\n<g id=\"edge2\" class=\"edge\">\n<title>B&#45;&gt;C</title>\n<path fill=\"none\" stroke=\"black\" d=\"M144.87,-144.41C137.87,-135.66 129.15,-124.75 121.41,-115.08\"/>\n<polygon fill=\"black\" stroke=\"black\" points=\"123.92,-112.61 114.94,-106.99 118.45,-116.98 123.92,-112.61\"/>\n</g>\n<!-- D -->\n<g id=\"node4\" class=\"node\">\n<title>D</title>\n<ellipse fill=\"none\" stroke=\"black\" cx=\"46.15\" cy=\"-18\" rx=\"46.29\" ry=\"18\"/>\n<text text-anchor=\"middle\" x=\"46.15\" y=\"-14.3\" font-family=\"Times,serif\" font-size=\"14.00\">John calls</text>\n</g>\n<!-- C&#45;&gt;D -->\n<g id=\"edge3\" class=\"edge\">\n<title>C&#45;&gt;D</title>\n<path fill=\"none\" stroke=\"black\" d=\"M89.44,-73.12C82.38,-64.29 73.45,-53.13 65.54,-43.24\"/>\n<polygon fill=\"black\" stroke=\"black\" points=\"68.17,-40.93 59.19,-35.31 62.71,-45.3 68.17,-40.93\"/>\n</g>\n<!-- E -->\n<g id=\"node5\" class=\"node\">\n<title>E</title>\n<ellipse fill=\"none\" stroke=\"black\" cx=\"159.15\" cy=\"-18\" rx=\"48.99\" ry=\"18\"/>\n<text text-anchor=\"middle\" x=\"159.15\" y=\"-14.3\" font-family=\"Times,serif\" font-size=\"14.00\">Mary calls</text>\n</g>\n<!-- C&#45;&gt;E -->\n<g id=\"edge4\" class=\"edge\">\n<title>C&#45;&gt;E</title>\n<path fill=\"none\" stroke=\"black\" d=\"M115.08,-73.12C122.16,-64.42 131.1,-53.45 139.06,-43.66\"/>\n<polygon fill=\"black\" stroke=\"black\" points=\"141.87,-45.76 145.47,-35.8 136.44,-41.34 141.87,-45.76\"/>\n</g>\n</g>\n</svg>\n",
            "text/plain": [
              "<graphviz.graphs.Digraph at 0x7ed979eb7670>"
            ]
          },
          "metadata": {},
          "execution_count": 4
        }
      ]
    },
    {
      "cell_type": "markdown",
      "source": [
        "# Question: convert the graph to Laplacian matrix"
      ],
      "metadata": {
        "id": "sFgyZBvyWBzh"
      }
    },
    {
      "cell_type": "markdown",
      "source": [
        "# Bayesian Network consutrction and inference"
      ],
      "metadata": {
        "id": "fQvG0YBTWIDa"
      }
    },
    {
      "cell_type": "code",
      "source": [
        "!git clone https://github.com/Holmes-Alan/Bayesian_Network.git"
      ],
      "metadata": {
        "id": "aU_N3kovWPnx"
      },
      "execution_count": null,
      "outputs": []
    },
    {
      "cell_type": "markdown",
      "source": [
        "Read \"alarm.png\" file from the github link, use sorobn to construct the bayesian network"
      ],
      "metadata": {
        "id": "Vx9w5VI9WU7x"
      }
    },
    {
      "cell_type": "code",
      "source": [
        "import sorobn as hh\n",
        "import pandas as pd\n",
        "\n",
        "bn = hh.BayesNet(\n",
        "    ('Burglary', 'Alarm'),\n",
        "    ('Earthquake', 'Alarm'),\n",
        "    ('Alarm', 'John calls'),\n",
        "    ('Alarm', 'Mary calls'),\n",
        "    seed=42\n",
        "  )\n",
        "\n",
        "# P(Burglary)\n",
        "bn.P['Burglary'] = pd.Series({False: .999, True: .001})\n",
        "\n",
        "# P(Earthquake)\n",
        "bn.P['Earthquake'] = pd.Series({False: .998, True: .002})\n",
        "\n",
        "# P(Alarm | Burglary, Earthquake)\n",
        "bn.P['Alarm'] = pd.Series({\n",
        "     (True, True, True): .95,\n",
        "     (True, True, False): .05,\n",
        "\n",
        "     (True, False, True): .94,\n",
        "     (True, False, False): .06,\n",
        "\n",
        "     (False, True, True): .29,\n",
        "     (False, True, False): .71,\n",
        "\n",
        "     (False, False, True): .001,\n",
        "     (False, False, False): .999\n",
        " })\n",
        "\n",
        "# P(John calls | Alarm)\n",
        "bn.P['John calls'] = pd.Series({\n",
        "     (True, True): .9,\n",
        "     (True, False): .1,\n",
        "     (False, True): .05,\n",
        "     (False, False): .95\n",
        " })\n",
        "\n",
        "# P(Mary calls | Alarm)\n",
        "bn.P['Mary calls'] = pd.Series({\n",
        "     (True, True): .7,\n",
        "     (True, False): .3,\n",
        "     (False, True): .01,\n",
        "     (False, False): .99\n",
        " })"
      ],
      "metadata": {
        "id": "PXaxL3eZPAlg"
      },
      "execution_count": 5,
      "outputs": []
    },
    {
      "cell_type": "markdown",
      "source": [
        "Bake the network"
      ],
      "metadata": {
        "id": "PMUZD0buWfBZ"
      }
    },
    {
      "cell_type": "code",
      "source": [
        "bn.prepare()"
      ],
      "metadata": {
        "id": "6O7-OBvrPT0J"
      },
      "execution_count": 6,
      "outputs": []
    },
    {
      "cell_type": "markdown",
      "source": [
        "# Bayesian network inference"
      ],
      "metadata": {
        "id": "1KKg3JS_WgxB"
      }
    },
    {
      "cell_type": "markdown",
      "source": [
        "What is the likelihood of there being a burglary if both John and Mary call?"
      ],
      "metadata": {
        "id": "DQMfVStSPXeZ"
      }
    },
    {
      "cell_type": "code",
      "source": [
        "bn.query('Burglary', event={'Mary calls': True, 'John calls': True})"
      ],
      "metadata": {
        "colab": {
          "base_uri": "https://localhost:8080/"
        },
        "id": "feYONoD5PWPx",
        "outputId": "0869932e-9278-43ce-96f2-34e4b536a0bb"
      },
      "execution_count": 7,
      "outputs": [
        {
          "output_type": "execute_result",
          "data": {
            "text/plain": [
              "Burglary\n",
              "False    0.715828\n",
              "True     0.284172\n",
              "Name: P(Burglary), dtype: float64"
            ]
          },
          "metadata": {},
          "execution_count": 7
        }
      ]
    },
    {
      "cell_type": "markdown",
      "source": [
        "What are the chances that John and Mary call if an earthquake happens?"
      ],
      "metadata": {
        "id": "wueyKGvAPdSh"
      }
    },
    {
      "cell_type": "code",
      "source": [
        "bn.query('John calls', 'Mary calls', event={'Earthquake': True})"
      ],
      "metadata": {
        "colab": {
          "base_uri": "https://localhost:8080/"
        },
        "id": "utk9ZNVePbRJ",
        "outputId": "f8ec1a68-0898-4361-f296-ea310dd27f58"
      },
      "execution_count": 8,
      "outputs": [
        {
          "output_type": "execute_result",
          "data": {
            "text/plain": [
              "John calls  Mary calls\n",
              "False       False         0.675854\n",
              "            True          0.027085\n",
              "True        False         0.113591\n",
              "            True          0.183470\n",
              "Name: P(John calls, Mary calls), dtype: float64"
            ]
          },
          "metadata": {},
          "execution_count": 8
        }
      ]
    }
  ]
}